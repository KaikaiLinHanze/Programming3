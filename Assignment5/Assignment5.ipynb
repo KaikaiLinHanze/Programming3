{
 "cells": [
  {
   "cell_type": "markdown",
   "metadata": {},
   "source": [
    "# Master DSLS / Programming 3 / Assignment 5\n",
    "# Mapreduce & PySpark Assignment"
   ]
  },
  {
   "cell_type": "markdown",
   "metadata": {},
   "source": [
    "## 1. Goal\n",
    "\n",
    "The goal of this assignment is to read in a large dataset of protein annotation information and to manipulate, summarize and analyze it using PySpark Dataframes.\n",
    "\n",
    "Protein annotation is a branch of bioinformatics which classifies the different parts of a protein's structure based on both sequence and functional characteristics. For instance, it recognizes structural elements like trans-membrane helices, but also particular active sites (\"Serine Protease\") and also signal peptides (\"periplasmic membrane tag\"). The holy grail of this field is to use these different annotations of parts of the protein sequence, and to combine them to predict the function of the protein as a whole. (Without having to carry out actual experiments in the lab !)\n",
    "\n",
    "The subject is the output of the InterProScan protein annotation service [InterproScan online](http://www.ebi.ac.uk/interpro/), [NAR article](https://academic.oup.com/nar/article/49/D1/D344/5958491) Briefly, InterPROscan is a meta-annotator; it runs different protein function annotators in turn on an input amino-acid sequence FASTA file and collects the output of each, labelling them with a unique and consistent identifier; the \"InterPRO number\". I used this service to annotate all currently known prokaryotic (Bacteria, Archaea) genomes to investigate better methods of metagenomics sequence annotation."
   ]
  },
  {
   "cell_type": "markdown",
   "metadata": {},
   "source": [
    "# 2. Deliverables\n",
    "\n",
    "You need to write a script called `assignment5.py` in your `Assignment5` folder in your `programming3` GitHub repository. This script takes as input an InterPROscan output file; you can test on the example data in the /data/dataprocessing/interproscan/all_bacilli.tsv file on assemblix2012 and assemblix2019. You should use the PySpark Dataframe interface to read in and manipulate this file. This file contains ~4,200,000 protein annotations. You need to use the PySpark dataframe functions to answer the following questions:\n",
    "1. How many distinct protein annotations are found in the dataset? I.e. how many distinc InterPRO numbers are there?\n",
    "2. How many annotations does a protein have on average?\n",
    "3. What is the most common GO Term found?\n",
    "4. What is the average size of an InterPRO feature found in the dataset?\n",
    "5. What is the top 10 most common InterPRO features?\n",
    "6. If you select InterPRO features that are almost the same size (within 90-100%) as the protein itself, what is the top10 then?\n",
    "7. If you look at those features which also have textual annotation, what is the top 10 most common word found in that annotation?\n",
    "8. And the top 10 least common?\n",
    "9. Combining your answers for Q6 and Q7, what are the 10 most commons words found for the largest InterPRO features?\n",
    "10. What is the coefficient of correlation ($R^2$) between the size of the protein and the number of features found?\n",
    "\n",
    "Your output should be a CSV file with 3 columns;\n",
    "1. in the first column the question number\n",
    "2. in the second column the answer(s) to the question\n",
    "3. in the third column the output of the scheduler's physical plan (using the `.explain()` PySpark method) as a string\n",
    "\n",
    "NB1: Make sure you use the /commons/conda environment\n",
    "NB2: Use only 16 threads maximum; `sc = SparkContext('local[16]')`\n",
    "NB3: Use the `csv` Python module to make the CSV file in \"excel\" format; this makes it easier to deal with the different answer types (number, string, list etc.)"
   ]
  },
  {
   "cell_type": "code",
   "execution_count": 1,
   "metadata": {},
   "outputs": [],
   "source": [
    "# Output format : https://interproscan-docs.readthedocs.io/en/latest/OutputFormats.html\n",
    "from pyspark.sql.types import StructType, StructField, IntegerType, StringType,FloatType\n",
    "from pyspark.sql.functions import *\n",
    "from pyspark.sql import SparkSession"
   ]
  },
  {
   "cell_type": "code",
   "execution_count": 2,
   "metadata": {},
   "outputs": [],
   "source": [
    "schema = StructType([\n",
    "    StructField(\"Protein_accession\", StringType(), True),\n",
    "    StructField(\"Sequence_MD5_digest\", StringType(), True),\n",
    "    StructField(\"Sequence_length\", IntegerType(), True),\n",
    "    StructField(\"Analysis\", StringType(), True),\n",
    "    StructField(\"Signature_accession\", StringType(), True),\n",
    "    StructField(\"Signature_description\", StringType(), True),\n",
    "    StructField(\"Start_location\", IntegerType(), True),\n",
    "    StructField(\"Stop_location\", IntegerType(), True),\n",
    "    StructField(\"Score\", FloatType(), True),\n",
    "    StructField(\"Status\", StringType(), True),\n",
    "    StructField(\"Date\", StringType(), True),\n",
    "    StructField(\"InterPro_annotations_accession\", StringType(), True),\n",
    "    StructField(\"InterPro_annotations_description\", StringType(), True),\n",
    "    StructField(\"GO_annotations\", StringType(), True),\n",
    "    StructField(\"Pathways_annotations\", StringType(), True)])\n",
    "spark = SparkSession.builder.master(\"local[16]\").appName(\"InterPro\").getOrCreate()\n",
    "df = spark.read.option(\"sep\",\"\\t\").option(\"header\",\"False\").csv(\"/data/dataprocessing/interproscan/all_bacilli.tsv\",schema=schema)"
   ]
  },
  {
   "cell_type": "code",
   "execution_count": 3,
   "metadata": {},
   "outputs": [],
   "source": [
    "# 1. How many distinct protein annotations are found in the dataset? I.e. how many distinc InterPRO numbers are there?\n",
    "data1 = df.select('InterPro_annotations_accession')\\\n",
    "          .filter(df.InterPro_annotations_accession != \"-\")\\\n",
    "          .distinct()\\\n",
    "          .count()\n"
   ]
  },
  {
   "cell_type": "code",
   "execution_count": 4,
   "metadata": {},
   "outputs": [],
   "source": [
    "# 2. How many annotations does a protein have on average?\n",
    "data2 = df.select(\"Protein_accession\",'InterPro_annotations_accession')\\\n",
    "            .filter(df.InterPro_annotations_accession != \"-\")\\\n",
    "            .groupBy(\"Protein_accession\")\\\n",
    "            .count()\\\n",
    "            .select(mean(\"count\"))\\\n",
    "            .collect()[0].__getitem__(0)\n"
   ]
  },
  {
   "cell_type": "code",
   "execution_count": 5,
   "metadata": {},
   "outputs": [],
   "source": [
    "# 3. What is the most common GO Term found?\n",
    "data3 = df.select(df.GO_annotations, explode(split(col(\"GO_annotations\"),\"\\|\"))\\\n",
    "                    .alias(\"Split_col\"))\n",
    "data3 = data3.filter(data3.Split_col != \"-\")\\\n",
    "            .select(\"Split_col\")\\\n",
    "            .groupby(\"Split_col\")\\\n",
    "            .count()\\\n",
    "            .sort(\"count\",ascending=False)\\\n",
    "            .collect()[:10]\n",
    "data3 = [data[0] for data in data3]\n"
   ]
  },
  {
   "cell_type": "code",
   "execution_count": 6,
   "metadata": {},
   "outputs": [],
   "source": [
    "# 4. What is the average size of an InterPRO feature found in the dataset?\n",
    "data4 = df.withColumn('Sub', ( df['Stop_location'] - df['Start_location']))\\\n",
    "            .summary(\"mean\")\\\n",
    "            .collect()[0]\\\n",
    "            .__getitem__(-1)\n"
   ]
  },
  {
   "cell_type": "code",
   "execution_count": 7,
   "metadata": {},
   "outputs": [],
   "source": [
    "# 5. What is the top 10 most common InterPRO features?\n",
    "data5 = df.select('InterPro_annotations_accession')\\\n",
    "            .filter(df.InterPro_annotations_accession != \"-\")\\\n",
    "            .groupBy('InterPro_annotations_accession')\\\n",
    "            .count()\\\n",
    "            .sort(\"count\",ascending=False)\\\n",
    "            .select(\"InterPro_annotations_accession\")\\\n",
    "            .collect()[:10]\n",
    "data5 = [data[0] for data in data5]\n"
   ]
  },
  {
   "cell_type": "code",
   "execution_count": 8,
   "metadata": {},
   "outputs": [],
   "source": [
    "# 6. If you select InterPRO features that are almost the same size (within 90-100%) as the protein itself, what is the top10 then?\n",
    "data6 = df.select('InterPro_annotations_accession',\"Sequence_length\")\\\n",
    "            .filter((df['Stop_location'] - df['Start_location'])>=0.9)\\\n",
    "            .filter(df.InterPro_annotations_accession != \"-\")\\\n",
    "            .groupBy('InterPro_annotations_accession')\\\n",
    "            .count()\\\n",
    "            .sort(\"count\",ascending=False)\\\n",
    "            .select(\"InterPro_annotations_accession\")\\\n",
    "            .collect()[:10]\n",
    "data6 = [data[0] for data in data6]\n"
   ]
  },
  {
   "cell_type": "code",
   "execution_count": 9,
   "metadata": {},
   "outputs": [],
   "source": [
    "# 7. If you look at those features which also have textual annotation, what is the top 10 most common word found in that annotation?\n",
    "data7 = df.select(df.InterPro_annotations_description,explode(split(col(\"InterPro_annotations_description\"),\"\\.|/| |,\"))\\\n",
    "            .alias(\"Split_col\"))\n",
    "data7 = data7.select(\"Split_col\")\\\n",
    "            .filter(data7.Split_col != \"\")\\\n",
    "            .groupby(\"Split_col\")\\\n",
    "            .count()\\\n",
    "            .sort(\"count\",ascending=False)\\\n",
    "            .select(\"Split_col\").collect()[:10]\n",
    "data7 = [data[0] for data in data7]\n"
   ]
  },
  {
   "cell_type": "code",
   "execution_count": 10,
   "metadata": {},
   "outputs": [],
   "source": [
    "# 8. And the top 10 least common?\n",
    "data8 = df.select(df.InterPro_annotations_description,explode(split(col(\"InterPro_annotations_description\"),\"\\.|/| |,\"))\\\n",
    "            .alias(\"Split_col\"))\n",
    "data8 = data8.select(\"Split_col\")\\\n",
    "            .filter(data8.Split_col != \"\")\\\n",
    "            .groupby(\"Split_col\")\\\n",
    "            .count()\\\n",
    "            .sort(\"count\",ascending=True)\\\n",
    "            .select(\"Split_col\").collect()[:10]\n",
    "data8 = [data[0] for data in data8]\n"
   ]
  },
  {
   "cell_type": "code",
   "execution_count": 11,
   "metadata": {},
   "outputs": [],
   "source": [
    "# 9. Combining your answers for Q6 and Q7, what are the 10 most commons words found for the largest InterPRO features?\n",
    "data9 = df.select('InterPro_annotations_accession',\"Sequence_length\")\\\n",
    "            .filter(df.InterPro_annotations_accession != \"-\")\\\n",
    "            .groupBy('InterPro_annotations_accession')\\\n",
    "            .count()\\\n",
    "            .sort(\"count\",ascending=False)\\\n",
    "            .select(\"InterPro_annotations_accession\")\\\n",
    "            .collect()[:1][0][0]\n",
    "data9 = df.select(df.InterPro_annotations_accession,df.InterPro_annotations_description)\\\n",
    "            .filter(df.InterPro_annotations_accession == data9)\\\n",
    "            .collect()[0][1]\n",
    "data9 = data9.split()\n"
   ]
  },
  {
   "cell_type": "code",
   "execution_count": 12,
   "metadata": {},
   "outputs": [],
   "source": [
    "# 10. What is the coefficient of correlation ($R^2$) between the size of the protein and the number of features found?\n",
    "data10=df.dropDuplicates(['InterPro_annotations_accession'])\\\n",
    "            .filter(df.InterPro_annotations_accession != \"-\")\\\n",
    "            .select([\"InterPro_annotations_accession\",\"Start_location\",\"Stop_location\"])\\\n",
    "            .withColumn('Sub', ( df['Stop_location'] - df['Start_location']))\n",
    "data11=df.select(\"InterPro_annotations_accession\")\\\n",
    "            .filter(df.InterPro_annotations_accession != \"-\")\\\n",
    "            .groupby(\"InterPro_annotations_accession\",)\\\n",
    "            .count()\n",
    "data10 = data10.join(data11,\"InterPro_annotations_accession\")\n",
    "data10 = data10.corr('Sub', 'count')"
   ]
  },
  {
   "cell_type": "code",
   "execution_count": 14,
   "metadata": {},
   "outputs": [
    {
     "name": "stdout",
     "output_type": "stream",
     "text": [
      "== Physical Plan ==\n",
      "FileScan csv [Protein_accession#0,Sequence_MD5_digest#1,Sequence_length#2,Analysis#3,Signature_accession#4,Signature_description#5,Start_location#6,Stop_location#7,Score#8,Status#9,Date#10,InterPro_annotations_accession#11,InterPro_annotations_description#12,GO_annotations#13,Pathways_annotations#14] Batched: false, DataFilters: [], Format: CSV, Location: InMemoryFileIndex(1 paths)[file:/data/dataprocessing/interproscan/all_bacilli.tsv], PartitionFilters: [], PushedFilters: [], ReadSchema: struct<Protein_accession:string,Sequence_MD5_digest:string,Sequence_length:int,Analysis:string,Si...\n",
      "\n",
      "\n"
     ]
    }
   ],
   "source": [
    "df.explain()"
   ]
  },
  {
   "cell_type": "markdown",
   "metadata": {},
   "source": []
  },
  {
   "cell_type": "markdown",
   "metadata": {},
   "source": [
    "## 3. Extra Information\n",
    "- The PySpark documentation; https://spark.apache.org/docs/latest/api/python/index.html\n",
    "- The InterProScan documentation; https://interpro-documentation.readthedocs.io/en/latest/interproscan.html\n",
    "- Nice Spark tutorial; http://ampcamp.berkeley.edu/big-data-mini-course/data-exploration-using-spark.html\n",
    "- About Protein annotation; Paper on PFAM, Paper on TIGRFAM"
   ]
  }
 ],
 "metadata": {
  "kernelspec": {
   "display_name": "Python 3",
   "language": "python",
   "name": "python3"
  },
  "language_info": {
   "codemirror_mode": {
    "name": "ipython",
    "version": 3
   },
   "file_extension": ".py",
   "mimetype": "text/x-python",
   "name": "python",
   "nbconvert_exporter": "python",
   "pygments_lexer": "ipython3",
   "version": "3.9.2"
  },
  "vscode": {
   "interpreter": {
    "hash": "ca1b872015604588654afab8889c327752f46265fe55163fa640f2d3ca6aaea6"
   }
  }
 },
 "nbformat": 4,
 "nbformat_minor": 2
}
