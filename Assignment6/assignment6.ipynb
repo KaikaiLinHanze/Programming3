{
 "cells": [
  {
   "cell_type": "markdown",
   "metadata": {},
   "source": [
    "# Master DSLS / Programming 3 / Assignment 6\n",
    "# Final Assignment"
   ]
  },
  {
   "cell_type": "markdown",
   "metadata": {},
   "source": [
    "## Introduction\n",
    "This is the final for programming 3. In this assignment, I will develop scikit-learn machine learning models to predict the function of the proteins in the specific dataset. This model will use small InterPro_annotations_accession to predict large InterPro_annotations_accession.\n",
    "The definition of small InterPro_annotations_accession and large InterPro_annotations_accession is defined as below:\n",
    "\n",
    "If InterPro_annotations_accession's feature length(Stop_location-Start_location) / Sequence_length > 0.9, it is large InterPro_annotations_accession.\n",
    "\n",
    "Otherwise, it is a small InterPro_annotations_accession.\n",
    "\n",
    "We can briefly rewrite as:\n",
    "\n",
    "            |(Stop - Start)|/Sequence >  0.9 --> Large\n",
    "\n",
    "            |(Stop - Start)|/Sequence <= 0.9 --> small\n",
    "\n",
    "I will also check the \"bias\" and \"noise\" that does not make sense from the dataset.\n",
    "\n",
    "ie. lines(-) from the TSV file which don't contain InterPRO numbers\n",
    "\n",
    "ie. proteins which don't have a large feature (according to the criteria above)"
   ]
  },
  {
   "cell_type": "markdown",
   "metadata": {},
   "source": [
    "## 1. Goal\n",
    "\n",
    "The goal of this assignment is to predict large InterPro_annotations_accession by small InterPro_annotations_accession.\n",
    "\n",
    "I will use the dataset from /data/dataprocessing/interproscan/all_bacilli.tsv file on assemblix2012 and assemblix2019. However, this file contains ~4,200,000 protein annotations, so I will put a subset of all_bacilli.tsv on GitHub and on local for code testing."
   ]
  },
  {
   "cell_type": "code",
   "execution_count": 1,
   "metadata": {},
   "outputs": [],
   "source": [
    "# Output format : https://interproscan-docs.readthedocs.io/en/latest/OutputFormats.html\n",
    "from pyspark.sql.types import StructType, StructField, IntegerType, StringType,FloatType\n",
    "from pyspark.sql.functions import *\n",
    "from pyspark.sql import SparkSession\n",
    "from pyspark.sql.functions import when\n",
    "import numpy as np\n",
    "import pandas as pd\n",
    "import warnings\n",
    "import time\n",
    "warnings.filterwarnings('ignore')\n",
    "from sklearn.model_selection import train_test_split\n",
    "from sklearn.ensemble import RandomForestClassifier\n",
    "from sklearn import metrics "
   ]
  },
  {
   "cell_type": "code",
   "execution_count": 2,
   "metadata": {},
   "outputs": [
    {
     "name": "stderr",
     "output_type": "stream",
     "text": [
      "WARNING: An illegal reflective access operation has occurred\n",
      "WARNING: Illegal reflective access by org.apache.spark.unsafe.Platform (file:/Users/kai/opt/anaconda3/lib/python3.9/site-packages/pyspark/jars/spark-unsafe_2.12-3.1.2.jar) to constructor java.nio.DirectByteBuffer(long,int)\n",
      "WARNING: Please consider reporting this to the maintainers of org.apache.spark.unsafe.Platform\n",
      "WARNING: Use --illegal-access=warn to enable warnings of further illegal reflective access operations\n",
      "WARNING: All illegal access operations will be denied in a future release\n",
      "22/09/25 21:13:24 WARN NativeCodeLoader: Unable to load native-hadoop library for your platform... using builtin-java classes where applicable\n",
      "Using Spark's default log4j profile: org/apache/spark/log4j-defaults.properties\n",
      "Setting default log level to \"WARN\".\n",
      "To adjust logging level use sc.setLogLevel(newLevel). For SparkR, use setLogLevel(newLevel).\n"
     ]
    }
   ],
   "source": [
    "# Create a df by PySpark\n",
    "schema = StructType([\n",
    "    StructField(\"Protein_accession\", StringType(), True),\n",
    "    StructField(\"Sequence_MD5_digest\", StringType(), True),\n",
    "    StructField(\"Sequence_length\", IntegerType(), True),\n",
    "    StructField(\"Analysis\", StringType(), True),\n",
    "    StructField(\"Signature_accession\", StringType(), True),\n",
    "    StructField(\"Signature_description\", StringType(), True),\n",
    "    StructField(\"Start_location\", IntegerType(), True),\n",
    "    StructField(\"Stop_location\", IntegerType(), True),\n",
    "    StructField(\"Score\", FloatType(), True),\n",
    "    StructField(\"Status\", StringType(), True),\n",
    "    StructField(\"Date\", StringType(), True),\n",
    "    StructField(\"InterPro_annotations_accession\", StringType(), True),\n",
    "    StructField(\"InterPro_annotations_description\", StringType(), True),\n",
    "    StructField(\"GO_annotations\", StringType(), True),\n",
    "    StructField(\"Pathways_annotations\", StringType(), True)])\n",
    "# path = \"/data/dataprocessing/interproscan/all_bacilli.tsv\"\n",
    "path = \"all_bacilli.tsv\"\n",
    "spark = SparkSession.builder.master(\"local[16]\")\\\n",
    "                            .config('spark.driver.memory', '128g')\\\n",
    "                            .config('spark.executor.memory', '128g')\\\n",
    "                            .config(\"spark.sql.debug.maxToStringFields\",\"100\")\\\n",
    "                            .appName(\"InterPro\").getOrCreate()\n",
    "df = spark.read.option(\"sep\",\"\\t\").option(\"header\",\"False\").csv(path,schema=schema)"
   ]
  },
  {
   "cell_type": "code",
   "execution_count": 3,
   "metadata": {},
   "outputs": [
    {
     "name": "stdout",
     "output_type": "stream",
     "text": [
      "root\n",
      " |-- Protein_accession: string (nullable = true)\n",
      " |-- Sequence_MD5_digest: string (nullable = true)\n",
      " |-- Sequence_length: integer (nullable = true)\n",
      " |-- Analysis: string (nullable = true)\n",
      " |-- Signature_accession: string (nullable = true)\n",
      " |-- Signature_description: string (nullable = true)\n",
      " |-- Start_location: integer (nullable = true)\n",
      " |-- Stop_location: integer (nullable = true)\n",
      " |-- Score: float (nullable = true)\n",
      " |-- Status: string (nullable = true)\n",
      " |-- Date: string (nullable = true)\n",
      " |-- InterPro_annotations_accession: string (nullable = true)\n",
      " |-- InterPro_annotations_description: string (nullable = true)\n",
      " |-- GO_annotations: string (nullable = true)\n",
      " |-- Pathways_annotations: string (nullable = true)\n",
      "\n"
     ]
    }
   ],
   "source": [
    "df.printSchema()"
   ]
  },
  {
   "cell_type": "code",
   "execution_count": 4,
   "metadata": {},
   "outputs": [
    {
     "name": "stderr",
     "output_type": "stream",
     "text": [
      "                                                                                \r"
     ]
    }
   ],
   "source": [
    "# One line code\n",
    "# remove InterPro_annotations_accession == \"-\"\n",
    "# get the length of protein\n",
    "# get the ratio to distinguish them to large and small InterPro_annotations_accession\n",
    "# 1 for large, 0 for small InterPro_annotations_accession\n",
    "start = time.time()\n",
    "df = df.filter(df.InterPro_annotations_accession != \"-\")\\\n",
    "        .withColumn(\"Length\", abs(df[\"Stop_location\"] - df[\"Start_location\"]))\\\n",
    "        .withColumn(\"Ratio\", (abs(df[\"Stop_location\"] - df[\"Start_location\"])/df[\"Sequence_length\"]))\\\n",
    "        .withColumn(\"Size\", when((abs(df[\"Stop_location\"] - df[\"Start_location\"])/df[\"Sequence_length\"])>0.9,1).otherwise(0))\n",
    "# get the intersection to make sure there is a match of large and small InterPro_annotations_accession(at least one large and one small InterPro_annotations_accession)\n",
    "intersection = df.filter(df.Size == 0).select(\"Protein_accession\").intersect(df.filter(df.Size == 1).select(\"Protein_accession\"))\n",
    "intersection_df = intersection.join(df,[\"Protein_accession\"])\n",
    "# get the number of small InterPro_annotations_accession in each Protein_accession\n",
    "small_df = intersection_df.filter(df.Size == 0).groupBy([\"Protein_accession\"]).pivot(\"InterPro_annotations_accession\").count()\n",
    "# There are several InterPro_annotations_accession with the same Protein_accession. I only choose the largest one.\n",
    "large_df = intersection_df.filter(df.Size == 1).groupby([\"Protein_accession\"]).agg(max(\"Ratio\").alias(\"Ratio\"))\n",
    "large_df = large_df.join(intersection_df,[\"Protein_accession\",\"Ratio\"],\"inner\").dropDuplicates([\"Protein_accession\"])\n",
    "# Drop the useless columns\n",
    "columns = (\"Sequence_MD5_digest\",\"Analysis\",\"Signature_accession\",\"Signature_description\",\n",
    "        \"Score\",\"Status\",\"Date\",\"InterPro_annotations_description\",\"GO_annotations\",\n",
    "        \"Pathways_annotations\",\"Ratio\",\"Size\",\"Stop_location\",\"Start_location\",\"Sequence_length\",\"Length\")\n",
    "large_df = large_df.drop(*columns)\n"
   ]
  },
  {
   "cell_type": "code",
   "execution_count": 5,
   "metadata": {},
   "outputs": [],
   "source": [
    "# Create the df for ML\n",
    "ML_df = large_df.join(small_df,[\"Protein_accession\"]).fillna(0)"
   ]
  },
  {
   "cell_type": "code",
   "execution_count": 6,
   "metadata": {},
   "outputs": [
    {
     "name": "stderr",
     "output_type": "stream",
     "text": [
      "22/09/25 21:14:11 WARN package: Truncated the string representation of a plan since it was too large. This behavior can be adjusted by setting 'spark.sql.debug.maxToStringFields'.\n",
      "                                                                                \r"
     ]
    }
   ],
   "source": [
    "# Setup X,y and split it\n",
    "y = ML_df.select(\"InterPro_annotations_accession\")\n",
    "X = ML_df.select(ML_df.columns[2:])\n",
    "y = np.array(y.collect())\n",
    "X = np.array(X.collect())\n",
    "test_size = 0.2\n",
    "X_train, X_test, y_train, y_test = train_test_split(X, y, test_size = test_size)"
   ]
  },
  {
   "cell_type": "code",
   "execution_count": 7,
   "metadata": {},
   "outputs": [
    {
     "name": "stdout",
     "output_type": "stream",
     "text": [
      "0.0\n",
      "61.408486127853394\n"
     ]
    }
   ],
   "source": [
    "# Modeling\n",
    "rfc = RandomForestClassifier(random_state=42)\n",
    "rfc.fit(X_train, y_train)\n",
    "# performing predictions on the test dataset\n",
    "y_pred = rfc.predict(X_test)\n",
    "# using metrics module for accuracy calculation\n",
    "accuracy=metrics.accuracy_score(y_test, y_pred)\n",
    "print(accuracy)\n",
    "end = time.time()\n",
    "print(end-start)"
   ]
  },
  {
   "cell_type": "code",
   "execution_count": 8,
   "metadata": {},
   "outputs": [
    {
     "name": "stderr",
     "output_type": "stream",
     "text": [
      "                                                                                \r"
     ]
    }
   ],
   "source": [
    "import pickle\n",
    "# file = '/students/2021-2022/master/Kai_DSLS/randforest.pkl'\n",
    "file = \"randforest.pkl\"\n",
    "pickle.dump(rfc, open(file, 'wb'))\n",
    "# file_Xtrain = '/students/2021-2022/master/Kai_DSLS/X_train.pkl'\n",
    "file_Xtrain = \"./X_train.pkl\"\n",
    "ML_df.toPandas().to_pickle(file_Xtrain)"
   ]
  }
 ],
 "metadata": {
  "kernelspec": {
   "display_name": "Python 3",
   "language": "python",
   "name": "python3"
  },
  "language_info": {
   "codemirror_mode": {
    "name": "ipython",
    "version": 3
   },
   "file_extension": ".py",
   "mimetype": "text/x-python",
   "name": "python",
   "nbconvert_exporter": "python",
   "pygments_lexer": "ipython3",
   "version": "3.9.7"
  },
  "vscode": {
   "interpreter": {
    "hash": "ca1b872015604588654afab8889c327752f46265fe55163fa640f2d3ca6aaea6"
   }
  }
 },
 "nbformat": 4,
 "nbformat_minor": 2
}
