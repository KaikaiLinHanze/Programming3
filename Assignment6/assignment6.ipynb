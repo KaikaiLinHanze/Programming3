{
 "cells": [
  {
   "cell_type": "markdown",
   "metadata": {},
   "source": [
    "# Master DSLS / Programming 3 / Assignment 6\n",
    "# Final Assignment"
   ]
  },
  {
   "cell_type": "markdown",
   "metadata": {},
   "source": [
    "## Introduction\n",
    "This is the final for programming 3. In this assignment, I will develop scikit-learn machine learning models to predict the function of the proteins in the specific dataset. This model will use small InterPro_annotations_accession to predict large InterPro_annotations_accession.\n",
    "The definition of small InterPro_annotations_accession and large InterPro_annotations_accession is defined as below:\n",
    "\n",
    "If InterPro_annotations_accession's feature length(Stop_location-Start_location) / Sequence_length > 0.9, it is large InterPro_annotations_accession.\n",
    "\n",
    "Otherwise, it is a small InterPro_annotations_accession.\n",
    "\n",
    "We can briefly rewrite as:\n",
    "\n",
    "            |(Stop - Start)|/Sequence >  0.9 --> Large\n",
    "\n",
    "            |(Stop - Start)|/Sequence <= 0.9 --> small\n",
    "\n",
    "I will also check the \"bias\" and \"noise\" that does not make sense from the dataset.\n",
    "\n",
    "ie. lines(-) from the TSV file which don't contain InterPRO numbers\n",
    "\n",
    "ie. proteins which don't have a large feature (according to the criteria above)"
   ]
  },
  {
   "cell_type": "markdown",
   "metadata": {},
   "source": [
    "## 1. Goal\n",
    "\n",
    "The goal of this assignment is to predict large InterPro_annotations_accession by small InterPro_annotations_accession.\n",
    "\n",
    "I will use the dataset from /data/dataprocessing/interproscan/all_bacilli.tsv file on assemblix2012 and assemblix2019. However, this file contains ~4,200,000 protein annotations, so I will put a subset of all_bacilli.tsv on GitHub and on local for code testing."
   ]
  },
  {
   "cell_type": "code",
   "execution_count": 32,
   "metadata": {},
   "outputs": [],
   "source": [
    "# Output format : https://interproscan-docs.readthedocs.io/en/latest/OutputFormats.html\n",
    "from pyspark.sql.types import StructType, StructField, IntegerType, StringType,FloatType\n",
    "from pyspark.sql.functions import *\n",
    "from pyspark.sql import SparkSession\n",
    "import pandas as pd\n",
    "import warnings\n",
    "warnings.filterwarnings('ignore')"
   ]
  },
  {
   "cell_type": "code",
   "execution_count": 63,
   "metadata": {},
   "outputs": [],
   "source": [
    "schema = StructType([\n",
    "    StructField(\"Protein_accession\", StringType(), True),\n",
    "    StructField(\"Sequence_MD5_digest\", StringType(), True),\n",
    "    StructField(\"Sequence_length\", IntegerType(), True),\n",
    "    StructField(\"Analysis\", StringType(), True),\n",
    "    StructField(\"Signature_accession\", StringType(), True),\n",
    "    StructField(\"Signature_description\", StringType(), True),\n",
    "    StructField(\"Start_location\", IntegerType(), True),\n",
    "    StructField(\"Stop_location\", IntegerType(), True),\n",
    "    StructField(\"Score\", FloatType(), True),\n",
    "    StructField(\"Status\", StringType(), True),\n",
    "    StructField(\"Date\", StringType(), True),\n",
    "    StructField(\"InterPro_annotations_accession\", StringType(), True),\n",
    "    StructField(\"InterPro_annotations_description\", StringType(), True),\n",
    "    StructField(\"GO_annotations\", StringType(), True),\n",
    "    StructField(\"Pathways_annotations\", StringType(), True)])\n",
    "spark = SparkSession.builder.master(\"local[16]\").appName(\"InterPro\").getOrCreate()\n",
    "df = spark.read.option(\"sep\",\"\\t\").option(\"header\",\"False\").csv(\"all_bacilli.tsv\",schema=schema)"
   ]
  },
  {
   "cell_type": "code",
   "execution_count": 64,
   "metadata": {},
   "outputs": [
    {
     "name": "stdout",
     "output_type": "stream",
     "text": [
      "root\n",
      " |-- Protein_accession: string (nullable = true)\n",
      " |-- Sequence_MD5_digest: string (nullable = true)\n",
      " |-- Sequence_length: integer (nullable = true)\n",
      " |-- Analysis: string (nullable = true)\n",
      " |-- Signature_accession: string (nullable = true)\n",
      " |-- Signature_description: string (nullable = true)\n",
      " |-- Start_location: integer (nullable = true)\n",
      " |-- Stop_location: integer (nullable = true)\n",
      " |-- Score: float (nullable = true)\n",
      " |-- Status: string (nullable = true)\n",
      " |-- Date: string (nullable = true)\n",
      " |-- InterPro_annotations_accession: string (nullable = true)\n",
      " |-- InterPro_annotations_description: string (nullable = true)\n",
      " |-- GO_annotations: string (nullable = true)\n",
      " |-- Pathways_annotations: string (nullable = true)\n",
      "\n"
     ]
    }
   ],
   "source": [
    "df.printSchema()"
   ]
  },
  {
   "cell_type": "code",
   "execution_count": 65,
   "metadata": {},
   "outputs": [
    {
     "name": "stderr",
     "output_type": "stream",
     "text": [
      "                                                                                \r"
     ]
    }
   ],
   "source": [
    "dfPandas = df.toPandas()"
   ]
  },
  {
   "cell_type": "code",
   "execution_count": 139,
   "metadata": {},
   "outputs": [
    {
     "data": {
      "text/plain": [
       "80"
      ]
     },
     "execution_count": 139,
     "metadata": {},
     "output_type": "execute_result"
    }
   ],
   "source": [
    "# remove InterPro_annotations_accession == \"-\"\n",
    "dfPandas_filter_InterPro = dfPandas[dfPandas[\"InterPro_annotations_accession\"] !=\"-\"]\n",
    "# get the length of protein\n",
    "dfPandas_filter_InterPro[\"Length\"]= (dfPandas_filter_InterPro[\"Stop_location\"] - dfPandas_filter_InterPro[\"Start_location\"]).abs()\n",
    "# get the ratio to distinguish them to large and small InterPro_annotations_accession\n",
    "dfPandas_filter_InterPro[\"Ratio\"] = dfPandas_filter_InterPro[\"Length\"]/dfPandas_filter_InterPro[\"Sequence_length\"]\n",
    "# 1 for large, 0 for small InterPro_annotations_accession\n",
    "dfPandas_filter_InterPro[\"Size\"] = dfPandas_filter_InterPro[\"Ratio\"].apply(lambda x: 1 if x>0.9 else 0)\n",
    "# get the intersection to make sure there is a match of large and small InterPro_annotations_accession\n",
    "set(dfPandas_filter_InterPro[dfPandas_filter_InterPro[\"Size\"] == 1][\"Protein_accession\"]).intersection(dfPandas_filter_InterPro[dfPandas_filter_InterPro[\"Size\"] == 0][\"Protein_accession\"])"
   ]
  }
 ],
 "metadata": {
  "kernelspec": {
   "display_name": "Python 3",
   "language": "python",
   "name": "python3"
  },
  "language_info": {
   "codemirror_mode": {
    "name": "ipython",
    "version": 3
   },
   "file_extension": ".py",
   "mimetype": "text/x-python",
   "name": "python",
   "nbconvert_exporter": "python",
   "pygments_lexer": "ipython3",
   "version": "3.9.7"
  },
  "vscode": {
   "interpreter": {
    "hash": "ca1b872015604588654afab8889c327752f46265fe55163fa640f2d3ca6aaea6"
   }
  }
 },
 "nbformat": 4,
 "nbformat_minor": 2
}
